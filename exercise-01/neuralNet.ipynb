{
 "cells": [
  {
   "cell_type": "code",
   "execution_count": 3,
   "metadata": {},
   "outputs": [],
   "source": [
    "import numpy as np\n",
    "import pickle\n",
    "import os\n",
    "import gzip\n",
    "from matplotlib import pyplot as plt\n",
    "%matplotlib inline"
   ]
  },
  {
   "cell_type": "markdown",
   "metadata": {},
   "source": [
    "# First exercise: Classifying MNIST with MLPs\n",
    "In this exercise you will implement a Neural Network (or MLP) and classify the MNIST digits with it.\n",
    "MNIST is a \"well hung\" dataset that has been used a lot over the years to benchmark different classification algorithms. \n",
    "To learn more about it have a look here: http://yann.lecun.com/exdb/mnist/ ."
   ]
  },
  {
   "cell_type": "markdown",
   "metadata": {},
   "source": [
    "# Data Loading\n",
    "We first define a function for downloading and loading MNIST.\n",
    "**WARNING**: Executing it will obviously use up some space on your machine ;). "
   ]
  },
  {
   "cell_type": "code",
   "execution_count": 4,
   "metadata": {},
   "outputs": [],
   "source": [
    "def mnist(datasets_dir='./data'):\n",
    "    if not os.path.exists(datasets_dir):\n",
    "        os.mkdir(datasets_dir)\n",
    "    data_file = os.path.join(datasets_dir, 'mnist.pkl.gz')\n",
    "    if not os.path.exists(data_file):\n",
    "        print('... downloading MNIST from the web')\n",
    "        try:\n",
    "            import urllib\n",
    "            urllib.urlretrieve('http://google.com')\n",
    "        except AttributeError:\n",
    "            import urllib.request as urllib\n",
    "        url = 'http://www.iro.umontreal.ca/~lisa/deep/data/mnist/mnist.pkl.gz'\n",
    "        urllib.urlretrieve(url, data_file)\n",
    "\n",
    "    print('... loading data')\n",
    "    # Load the dataset\n",
    "    f = gzip.open(data_file, 'rb')\n",
    "    try:\n",
    "        train_set, valid_set, test_set = pickle.load(f, encoding=\"latin1\")\n",
    "    except TypeError:\n",
    "        train_set, valid_set, test_set = pickle.load(f)\n",
    "    f.close()\n",
    "\n",
    "    test_x, test_y = test_set\n",
    "    test_x = test_x.astype('float32')\n",
    "    test_x = test_x.astype('float32').reshape(test_x.shape[0], 1, 28, 28)\n",
    "    test_y = test_y.astype('int32')\n",
    "    valid_x, valid_y = valid_set\n",
    "    valid_x = valid_x.astype('float32')\n",
    "    valid_x = valid_x.astype('float32').reshape(valid_x.shape[0], 1, 28, 28)\n",
    "    valid_y = valid_y.astype('int32')\n",
    "    train_x, train_y = train_set\n",
    "    train_x = train_x.astype('float32').reshape(train_x.shape[0], 1, 28, 28)\n",
    "    train_y = train_y.astype('int32')\n",
    "    rval = [(train_x, train_y), (valid_x, valid_y), (test_x, test_y)]\n",
    "    print('... done loading data')\n",
    "    return rval"
   ]
  },
  {
   "cell_type": "markdown",
   "metadata": {},
   "source": [
    "# Neural Network Layers\n",
    "We now define bare bones neural network layers.\n",
    "The parts marked with TODO are were you should finish the implementation!\n",
    "Conceptually we will implement the layers as follows:\n",
    "\n",
    "Each layer is constructed with an input layer plus some additional arguments such as layer size and activation function. The layer then uses the provided input layer to compute the layer dimensions, weight shapes, etc. and setup all auxilliary variables.\n",
    "\n",
    "Each layer then has to provide three functions (as defined in the Layer class below): output_shape(), fprop() and brop(). The output_shape function is used to figure out the shape for the next layer and the fprop()/bprop() functions are used to compute forward and backward passes through the network."
   ]
  },
  {
   "cell_type": "code",
   "execution_count": 5,
   "metadata": {},
   "outputs": [],
   "source": [
    "# start by defining simple helpers\n",
    "def sigmoid(x):\n",
    "    return 1.0 / (1.0 + np.exp(-x))\n",
    "\n",
    "\n",
    "def sigmoid_d(x):\n",
    "    s = sigmoid(x)\n",
    "    return s * (1 - s)\n",
    "\n",
    "\n",
    "def tanh(x):\n",
    "    return np.tanh(x)\n",
    "\n",
    "\n",
    "def tanh_d(x):\n",
    "    return 1 - ((tanh(x)) ** 2)\n",
    "\n",
    "\n",
    "def relu(x):\n",
    "    return np.maximum(0.0, x)\n",
    "\n",
    "\n",
    "def relu_d(x):\n",
    "    dx = np.zeros(x.shape)\n",
    "    dx[x >= 0] = 1\n",
    "    return dx\n",
    "\n",
    "\n",
    "def linear(x):\n",
    "    return x\n",
    "\n",
    "\n",
    "def liear_d(x):\n",
    "    return np.ones_like(x)\n",
    "\n",
    "\n",
    "def softmax(x, axis=1):\n",
    "    # to make the softmax a \"safe\" operation we will \n",
    "    # first subtract the maximum along the specified axis\n",
    "    # so that np.exp(x) does not blow up!\n",
    "    # Note that this does not change the output.\n",
    "    x_max = np.max(x, axis=axis, keepdims=True)\n",
    "    x_safe = x - x_max\n",
    "    e_x = np.exp(x_safe)\n",
    "    return e_x / np.sum(e_x, axis=axis, keepdims=True)\n",
    "\n",
    "\n",
    "def one_hot(labels):\n",
    "    \"\"\"this creates a one hot encoding from a flat vector:\n",
    "    i.e. given y = [0,2,1]\n",
    "     it creates y_one_hot = [[1,0,0], [0,0,1], [0,1,0]]\n",
    "    \"\"\"\n",
    "    classes = np.unique(labels)\n",
    "    n_classes = classes.size\n",
    "    one_hot_labels = np.zeros(labels.shape + (n_classes,))\n",
    "    for c in classes:\n",
    "        one_hot_labels[labels == c, c] = 1\n",
    "    return one_hot_labels\n",
    "\n",
    "\n",
    "def unhot(one_hot_labels):\n",
    "    \"\"\" Invert a one hot encoding, creating a flat vector \"\"\"\n",
    "    return np.argmax(one_hot_labels, axis=-1)\n",
    "\n",
    "\n",
    "# then define an activation function class\n",
    "class Activation(object):\n",
    "    def __init__(self, tname):\n",
    "        if tname == 'sigmoid':\n",
    "            self.act = sigmoid\n",
    "            self.act_d = sigmoid_d\n",
    "        elif tname == 'tanh':\n",
    "            self.act = tanh\n",
    "            self.act_d = tanh_d\n",
    "        elif tname == 'relu':\n",
    "            self.act = relu\n",
    "            self.act_d = relu_d\n",
    "        elif tname == 'linear':\n",
    "            self.act = linear\n",
    "            self.act_d = linear_d\n",
    "        else:\n",
    "            raise ValueError('Invalid activation function.')\n",
    "\n",
    "    def fprop(self, input):\n",
    "        # we need to remember the last input\n",
    "        # so that we can calculate the derivative with respect\n",
    "        # to it later on\n",
    "        self.last_input = input\n",
    "        return self.act(input)\n",
    "\n",
    "    def bprop(self, output_grad):\n",
    "        return output_grad * self.act_d(self.last_input)\n",
    "\n",
    "\n",
    "# define a base class for layers\n",
    "class Layer(object):\n",
    "    def fprop(self, input):\n",
    "        \"\"\" Calculate layer output for given input \n",
    "            (forward propagation). \n",
    "        \"\"\"\n",
    "        raise NotImplementedError()\n",
    "\n",
    "    def bprop(self, output_grad):\n",
    "        \"\"\" Calculate input gradient and gradient \n",
    "            with respect to weights and bias (backpropagation). \n",
    "        \"\"\"\n",
    "        raise NotImplementedError()\n",
    "\n",
    "    def output_size(self):\n",
    "        \"\"\" Calculate size of this layer's output.\n",
    "        input_shape[0] is the number of samples in the input.\n",
    "        input_shape[1:] is the shape of the feature.\n",
    "        \"\"\"\n",
    "        raise NotImplementedError()\n",
    "\n",
    "\n",
    "# define a base class for loss outputs\n",
    "# an output layer can then simply be derived\n",
    "# from both Layer and Loss \n",
    "class Loss(object):\n",
    "    def loss(self, output, output_net):\n",
    "        \"\"\" Calculate mean loss given real output and network output. \"\"\"\n",
    "        raise NotImplementedError()\n",
    "\n",
    "    def input_grad(self, output, output_net):\n",
    "        \"\"\" Calculate input gradient real output and network output. \"\"\"\n",
    "        raise NotImplementedError()\n",
    "\n",
    "\n",
    "# define a base class for parameterized things        \n",
    "class Parameterized(object):\n",
    "    def params(self):\n",
    "        \"\"\" Return parameters (by reference) \"\"\"\n",
    "        raise NotImplementedError()\n",
    "\n",
    "    def grad_params(self):\n",
    "        \"\"\" Return accumulated gradient with respect to params. \"\"\"\n",
    "        raise NotImplementedError()\n",
    "\n",
    "\n",
    "# define a container for providing input to the network\n",
    "class InputLayer(Layer):\n",
    "    def __init__(self, input_shape):\n",
    "        if not isinstance(input_shape, tuple):\n",
    "            raise ValueError(\"InputLayer requires input_shape as a tuple\")\n",
    "        self.input_shape = input_shape\n",
    "        \n",
    "        print(\"----\")\n",
    "        print(\"Input Layer\")\n",
    "        print(\"    InputShape\", self.input_shape) \n",
    "\n",
    "    def output_size(self):\n",
    "        return self.input_shape\n",
    "\n",
    "    def fprop(self, input):\n",
    "        return input\n",
    "\n",
    "    def bprop(self, output_grad):\n",
    "        return output_grad\n",
    "\n",
    "\n",
    "class FullyConnectedLayer(Layer, Parameterized):\n",
    "    \"\"\" A standard fully connected hidden layer, as discussed in the lecture.\n",
    "    \"\"\"\n",
    "\n",
    "    def __init__(self, input_layer, num_units,\n",
    "                 init_stddev, activation_fun=Activation('relu')):\n",
    "        self.num_units = num_units\n",
    "        self.activation_fun = activation_fun\n",
    "        # the input shape will be of size (batch_size, num_units_prev) \n",
    "        # where num_units_prev is the number of units in the input \n",
    "        # (previous) layer\n",
    "        self.input_shape = input_layer.output_size()\n",
    "        \n",
    "        print(\"----\")\n",
    "        print(\"FullyConnectedLayer\")\n",
    "        print(\"    NumUnits\", self.num_units)\n",
    "        print(\"    Activation\", self.num_units)\n",
    "        print(\"    InputShape\", self.input_shape)   \n",
    "    \n",
    "        # this is the weight matrix it should have shape: (num_units_prev, num_units)\n",
    "        self.W = np.random.randn(self.input_shape[1], self.num_units) * init_stddev\n",
    "        \n",
    "        # and this is the bias vector of shape: (num_units)\n",
    "        # Init with 0 as bias will be adjusted accordingly\n",
    "        self.b = np.zeros(self.num_units)  \n",
    "        \n",
    "        # create dummy variables for parameter gradients\n",
    "        self.dW = None\n",
    "        self.db = None\n",
    "        self.last_input = None\n",
    "\n",
    "    def output_size(self):\n",
    "        return (self.input_shape[0], self.num_units)\n",
    "\n",
    "    def fprop(self, input):\n",
    "        self.last_input = input\n",
    "        \n",
    "        activation = np.dot(input, self.W) + self.b\n",
    "    \n",
    "        # Handle case where activation function is None\n",
    "        if self.activation_fun == None:\n",
    "            return activation\n",
    "        return self.activation_fun.fprop(activation)\n",
    "\n",
    "    def bprop(self, output_grad):\n",
    "        \"\"\" Calculate input gradient (backpropagation). \"\"\"\n",
    "        n = output_grad.shape[0]\n",
    "        \n",
    "        # dL/da = output_grad_act\n",
    "        output_grad_act = None\n",
    "        if self.activation_fun is None:\n",
    "            output_grad_act = output_grad\n",
    "        else:\n",
    "            output_grad_act = self.activation_fun.bprop(output_grad)\n",
    "\n",
    "        # dL/dW = dL/da * da/dW = dL/da * z\n",
    "        # dL/da = activation.backprop\n",
    "        # da/dW = z = last input\n",
    "        self.dW = np.dot(self.last_input.T, output_grad_act) / n\n",
    "        \n",
    "        # dL/db = dL/da * da/db = dL/da * 1\n",
    "        # bias has has to be normed for all outputs\n",
    "        self.db = np.mean(output_grad_act, axis=0)\n",
    "        \n",
    "        # dL/dz = dL/da * da/dz = dL/da * w\n",
    "        grad_input = np.dot(output_grad_act, self.W.T)\n",
    "        return grad_input\n",
    "\n",
    "    def params(self):\n",
    "        return self.W, self.b\n",
    "\n",
    "    def grad_params(self):\n",
    "        return self.dW, self.db\n",
    "\n",
    "\n",
    "# finally we specify the interface for output layers \n",
    "# which are layers that also have a loss function\n",
    "# we will implement two output layers:\n",
    "#  a Linear, and Softmax (Logistic Regression) layer\n",
    "# The difference between output layers and and normal \n",
    "# layers is that they will be called to compute the gradient\n",
    "# of the loss through input_grad(). bprop will never \n",
    "# be called on them!\n",
    "class LinearOutput(Layer, Loss):\n",
    "    \"\"\" A simple linear output layer that  \n",
    "        uses a squared loss (e.g. should be used for regression)\n",
    "    \"\"\"\n",
    "    def __init__(self, input_layer):\n",
    "        self.input_size = input_layer.output_size()\n",
    "        \n",
    "        print(\"----\")\n",
    "        print(\"Linear Output\")\n",
    "        print(\"    Input Size\", self.input_size) \n",
    "\n",
    "    def output_size(self):\n",
    "        return (1,)\n",
    "\n",
    "    def fprop(self, input):\n",
    "        return input\n",
    "\n",
    "    def bprop(self, output_grad):\n",
    "        raise NotImplementedError(\n",
    "            'LinearOutput should only be used as the last layer of a Network'\n",
    "            + ' bprop() should thus never be called on it!'\n",
    "        )\n",
    "\n",
    "    def input_grad(self, Y, Y_pred):\n",
    "        return -(Y - Y_pred)\n",
    "\n",
    "    def loss(self, Y, Y_pred):\n",
    "        loss = 0.5 * np.square(Y - Y_pred)\n",
    "        return np.mean(np.sum(loss, axis=1))\n",
    "\n",
    "\n",
    "class SoftmaxOutput(Layer, Loss):\n",
    "    \"\"\" A softmax output layer that calculates \n",
    "        the negative log likelihood as loss\n",
    "        and should be used for classification.\n",
    "    \"\"\"\n",
    "\n",
    "    def __init__(self, input_layer):\n",
    "        self.input_size = input_layer.output_size()\n",
    "        \n",
    "        print(\"----\")\n",
    "        print(\"Softmax Output\")\n",
    "        print(\"    Input Size\", self.input_size) \n",
    "        \n",
    "\n",
    "    def output_size(self):\n",
    "        return (1,)\n",
    "\n",
    "    def fprop(self, input):\n",
    "        return softmax(input)\n",
    "\n",
    "    def bprop(self, output_grad):\n",
    "        raise NotImplementedError(\n",
    "            'SoftmaxOutput should only be used as the last layer of a Network'\n",
    "            + ' bprop() should thus never be called on it!'\n",
    "        )\n",
    "\n",
    "    def input_grad(self, Y, Y_pred):\n",
    "        return -(Y - Y_pred)\n",
    "\n",
    "    def loss(self, Y, Y_pred):\n",
    "        # Assume one-hot encoding of Y\n",
    "        # and Y_pred is softmax already\n",
    "        eps = 1e-10\n",
    "        loss = -np.sum(Y * np.log(Y_pred + eps))\n",
    "        return loss / Y.shape[0]\n"
   ]
  },
  {
   "cell_type": "markdown",
   "metadata": {},
   "source": [
    "# Neural Network class\n",
    "With all layers in place (and properly implemented by you) we can finally define a neural network.\n",
    "For our purposes a neural network is simply a collection of layers which we will cycle through and on which we will call fprop and bprop to compute partial derivatives with respect to the input and the parameters.\n",
    "\n",
    "Pay special attention to the *check_gradients* function in which you should implement automatic differentiation. This function will become your best friend when checking the correctness of your implementation."
   ]
  },
  {
   "cell_type": "code",
   "execution_count": 7,
   "metadata": {},
   "outputs": [],
   "source": [
    "\n",
    "class NeuralNetwork:\n",
    "    \"\"\" Our Neural Network container class.\n",
    "    \"\"\"\n",
    "    def __init__(self, layers):\n",
    "        self.layers = layers\n",
    "        \n",
    "    def _loss(self, X, Y):\n",
    "        Y_pred = self.predict(X)\n",
    "        return self.layers[-1].loss(Y, Y_pred)\n",
    "\n",
    "    def predict(self, X):\n",
    "        \"\"\" Calculate an output Y for the given input X. \"\"\"\n",
    "\n",
    "        # Value which gets propagated through the network\n",
    "        prop_val = X\n",
    "        for layer in self.layers:\n",
    "            prop_val = layer.fprop(prop_val)\n",
    "\n",
    "        # Return propagated value = Y_pred\n",
    "        return prop_val\n",
    "    \n",
    "    def backpropagate(self, Y, Y_pred, upto=0):\n",
    "        \"\"\" Backpropagation of partial derivatives through \n",
    "            the complete network up to layer 'upto'\n",
    "        \"\"\"\n",
    "        next_grad = self.layers[-1].input_grad(Y, Y_pred)\n",
    "        \n",
    "        # Iterate backwards through network up to layer from param\n",
    "        for layer in reversed(self.layers[upto:-1]):\n",
    "            next_grad = layer.bprop(next_grad)\n",
    "        return next_grad\n",
    "   \n",
    "    def classification_error_with_list(self, X, Y, withList=True):\n",
    "        \"\"\" Calculate error on the given data \n",
    "            assuming they are classes that should be predicted. \n",
    "            Additionally returns list of correctly / uncorrectly \n",
    "            classified elements\n",
    "        \"\"\"\n",
    "        Y_pred = unhot(self.predict(X))\n",
    "        error = Y_pred != Y\n",
    "        \n",
    "        if withList:\n",
    "            return np.mean(error), error\n",
    "        \n",
    "        return np.mean(error) \n",
    "    \n",
    "    def classification_error(self, X, Y):\n",
    "        \"\"\" Calculate error on the given data \n",
    "            assuming they are classes that should be predicted. \n",
    "        \"\"\"\n",
    "        return self.classification_error_with_list(X, Y, False)\n",
    "    \n",
    "    \n",
    "    def sgd_epoch(self, X, Y, learning_rate, batch_size):\n",
    "        n_samples = X.shape[0]\n",
    "        n_batches = n_samples // batch_size\n",
    "        for b in range(n_batches):\n",
    "            batch_begin = b * batch_size\n",
    "            batch_end = batch_begin + batch_size\n",
    "            X_batch = X[batch_begin:batch_end]\n",
    "            Y_batch = Y[batch_begin:batch_end]\n",
    "\n",
    "            # Forward\n",
    "            Y_pred = self.predict(X_batch)\n",
    "\n",
    "            # Backward\n",
    "            self.backpropagate(Y_batch, Y_pred)\n",
    "\n",
    "            for layer in self.layers:\n",
    "                if isinstance(layer, Parameterized):\n",
    "                    # Get params (getters are by reference for in place edit)\n",
    "                    param_tuples = zip(layer.params(), layer.grad_params())\n",
    "                    for param, grad in param_tuples:\n",
    "                        param -= grad * learning_rate\n",
    "    \n",
    "    def gd_epoch(self, X, Y, learning_rate):        \n",
    "        # Y_pred = self.predict(X)\n",
    "        # self.backpropagate(Y, Y_pred)\n",
    "        # \n",
    "        # for layer in self.layers:\n",
    "        #     if isinstance(layer, Parameterized):\n",
    "        #         # Get params (getters are by reference for in place edit)\n",
    "        #         param_tuples = zip(layer.params(), layer.grad_params())\n",
    "        #         for param, grad in param_tuples:\n",
    "        #             param -= grad * learning_rate\n",
    "        return self.sgd_epoch(X, Y, learning_rate, X.shape[0])\n",
    "       \n",
    "    \n",
    "    def train(self, X, Y, X_valid=None, Y_valid=None, \n",
    "              learning_rate=0.1, max_epochs=100, \n",
    "              batch_size=64, descent_type=\"sgd\", y_one_hot=True):\n",
    "        \"\"\" Train network on the given data. \"\"\"\n",
    "        n_samples = X.shape[0]\n",
    "        n_batches = n_samples // batch_size\n",
    "        if y_one_hot:\n",
    "            Y_train = one_hot(Y)\n",
    "        else:\n",
    "            Y_train = Y\n",
    "        print(\"... starting training\")\n",
    "        \n",
    "        num_epochs = max_epochs + 1  # +1 from predefined range\n",
    "\n",
    "         # Store errors of each epoch\n",
    "        train_errors = np.zeros(num_epochs)\n",
    "        val_errors = np.zeros(num_epochs)\n",
    "        \n",
    "        for e in range(num_epochs):\n",
    "            if descent_type == \"sgd\":\n",
    "                self.sgd_epoch(X, Y_train, learning_rate, batch_size)\n",
    "            elif descent_type == \"gd\":\n",
    "                self.gd_epoch(X, Y_train, learning_rate)\n",
    "            else:\n",
    "                raise NotImplemented(\"Unknown gradient descent type {}\".format(descent_type))\n",
    "\n",
    "            # Output error on the training data\n",
    "            train_loss = self._loss(X, Y_train)\n",
    "            train_errors[e] = self.classification_error(X, Y)\n",
    "            print('epoch {:4d}, loss {:.4f}, train error {:.4f}'.format(e, train_loss, train_errors[e]))\n",
    "            if X_valid is not None:\n",
    "                val_errors[e] = self.classification_error(X_valid, Y_valid)\n",
    "                print('                         val error   {:.4f}'.format(val_errors[e]))\n",
    "        \n",
    "        return train_errors, val_errors\n",
    "    \n",
    "    def test(self, X, Y, y_one_hot=True):\n",
    "        # See train method\n",
    "        if y_one_hot:\n",
    "            Y_train = one_hot(Y)\n",
    "        else:\n",
    "            Y_train = Y\n",
    "            \n",
    "        test_loss = self._loss(X, Y_train)\n",
    "        test_error, classifications = self.classification_error_with_list(X, Y)\n",
    "        \n",
    "        return test_loss, test_error, classifications\n",
    "    \n",
    "    def check_gradients(self, X, Y):\n",
    "        \"\"\" Helper function to test the parameter gradients for\n",
    "        correctness. \"\"\"\n",
    "        for l, layer in enumerate(self.layers):\n",
    "            if isinstance(layer, Parameterized):\n",
    "                print('checking gradient for layer {}'.format(l))\n",
    "                for p, param in enumerate(layer.params()):\n",
    "                    # we iterate through all parameters\n",
    "                    param_shape = param.shape\n",
    "                    # define functions for conveniently swapping\n",
    "                    # out parameters of this specific layer and \n",
    "                    # computing loss and gradient with these \n",
    "                    # changed parametrs\n",
    "                    def output_given_params(param_new):\n",
    "                        \"\"\" A function that will compute the output \n",
    "                            of the network given a set of parameters\n",
    "                        \"\"\"\n",
    "                        # copy provided parameters\n",
    "                        param[:] = np.reshape(param_new, param_shape)\n",
    "                        # return computed loss\n",
    "                        return self._loss(X, Y)\n",
    "\n",
    "                    def grad_given_params(param_new):\n",
    "                        \"\"\"A function that will compute the gradient \n",
    "                           of the network given a set of parameters\n",
    "                        \"\"\"\n",
    "                        # copy provided parameters\n",
    "                        param[:] = np.reshape(param_new, param_shape)\n",
    "                        # Forward propagation through the net\n",
    "                        Y_pred = self.predict(X)\n",
    "                        # Backpropagation of partial derivatives\n",
    "                        self.backpropagate(Y, Y_pred, upto=l)\n",
    "                        # return the computed gradient \n",
    "                        return np.ravel(self.layers[l].grad_params()[p])\n",
    "\n",
    "                    # let the initial parameters be the ones that\n",
    "                    # are currently placed in the network and flatten them\n",
    "                    # to a vector for convenient comparisons, printing etc.\n",
    "                    param_init = np.ravel(np.copy(param))\n",
    "                    \n",
    "                    # making sure your gradient checking routine itself \n",
    "                    # has no errors can be a bit tricky. To debug it\n",
    "                    # you can \"cheat\" by using scipy which implements\n",
    "                    # gradient checking exactly the way you should!\n",
    "                    # To do that simply run the following here:\n",
    "                    import scipy.optimize\n",
    "                    err = scipy.optimize.check_grad(output_given_params, grad_given_params, param_init)\n",
    "                    print('Scipy Err  {:.2e}'.format(err))\n",
    "                    \n",
    "                    epsilon = 1e-4\n",
    "                    loss_base = output_given_params(param_init)\n",
    "                    gparam_bprop = grad_given_params(param_init)\n",
    "                    gparam_fd = np.zeros_like(param_init)\n",
    "                    \n",
    "                    # Iterate over all params\n",
    "                    # See https://www.youtube.com/watch?v=pHMzNW8Agq4\n",
    "                    for i in range(len(param_init)):\n",
    "\n",
    "                        # Calculate numeric gradient\n",
    "                        param_init[i] += epsilon  # After tip its working...\n",
    "                        gparam_fd[i] = (output_given_params(param_init) - loss_base) / (epsilon)\n",
    "                        param_init[i] -= epsilon\n",
    "                    \n",
    "                    err = np.mean(np.abs(gparam_bprop - gparam_fd))\n",
    "                    print('Calculated {:.2e}'.format(err))\n",
    "                    assert(err < epsilon)\n",
    "                    \n",
    "                    # reset the parameters to their initial values\n",
    "                    param[:] = np.reshape(param_init, param_shape)"
   ]
  },
  {
   "cell_type": "markdown",
   "metadata": {},
   "source": [
    "# Gradient Checking\n",
    "After implementing everything it is always a good idea to setup some layers and perform gradient\n",
    "checking on random data. *Note* that this is only an example! It is not a useful networ architecture ;). We also expect you to play around with this to test all your implemented components."
   ]
  },
  {
   "cell_type": "code",
   "execution_count": 8,
   "metadata": {},
   "outputs": [
    {
     "name": "stdout",
     "output_type": "stream",
     "text": [
      "----\nInput Layer\n    InputShape (5, 10)\n----\nFullyConnectedLayer\n    NumUnits 15\n    Activation 15\n    InputShape (5, 10)\n----\nFullyConnectedLayer\n    NumUnits 6\n    Activation 6\n    InputShape (5, 15)\n----\nFullyConnectedLayer\n    NumUnits 6\n    Activation 6\n    InputShape (5, 6)\n----\nSoftmax Output\n    Input Size (5, 6)\n"
     ]
    }
   ],
   "source": [
    "input_shape = (5, 10)\n",
    "n_labels = 6\n",
    "layers = [InputLayer(input_shape)]\n",
    "\n",
    "layers.append(FullyConnectedLayer(\n",
    "    layers[-1],\n",
    "    num_units=15,\n",
    "    init_stddev=0.1,\n",
    "    activation_fun=Activation('relu')\n",
    "))\n",
    "layers.append(FullyConnectedLayer(\n",
    "    layers[-1],\n",
    "    num_units=6,\n",
    "    init_stddev=0.1,\n",
    "    activation_fun=Activation('tanh')\n",
    "))\n",
    "layers.append(FullyConnectedLayer(\n",
    "    layers[-1],\n",
    "    num_units=n_labels,\n",
    "    init_stddev=0.1,\n",
    "    activation_fun=Activation('relu')\n",
    "))\n",
    "layers.append(SoftmaxOutput(layers[-1]))\n",
    "nn = NeuralNetwork(layers)\n"
   ]
  },
  {
   "cell_type": "code",
   "execution_count": 9,
   "metadata": {},
   "outputs": [],
   "source": [
    "# create random data\n",
    "X = np.random.normal(size=input_shape)\n",
    "# and random labels\n",
    "Y = np.zeros((input_shape[0], n_labels))\n",
    "for i in range(Y.shape[0]):\n",
    "    idx = np.random.randint(n_labels)\n",
    "    Y[i, idx] = 1.\n"
   ]
  },
  {
   "cell_type": "code",
   "execution_count": 10,
   "metadata": {},
   "outputs": [
    {
     "name": "stdout",
     "output_type": "stream",
     "text": [
      "checking gradient for layer 1\n"
     ]
    },
    {
     "name": "stdout",
     "output_type": "stream",
     "text": [
      "Scipy Err  1.38e-07\nCalculated 8.68e-09\nScipy Err  4.57e-08\nCalculated 6.93e-09\nchecking gradient for layer 2\nScipy Err  1.10e-07\nCalculated 9.79e-09\nScipy Err  3.20e-08\nCalculated 2.09e-07\nchecking gradient for layer 3\nScipy Err  5.46e-08\nCalculated 1.10e-08\nScipy Err  2.09e-08\nCalculated 2.56e-06\n"
     ]
    }
   ],
   "source": [
    "nn.check_gradients(X, Y)\n"
   ]
  },
  {
   "cell_type": "markdown",
   "metadata": {},
   "source": [
    "# Training on MNIST\n",
    "Finally we can let our network run on the MNIST dataset!"
   ]
  },
  {
   "cell_type": "markdown",
   "metadata": {},
   "source": [
    "First load the data and reshape it."
   ]
  },
  {
   "cell_type": "code",
   "execution_count": 17,
   "metadata": {},
   "outputs": [
    {
     "name": "stdout",
     "output_type": "stream",
     "text": [
      "... loading data\n"
     ]
    },
    {
     "name": "stdout",
     "output_type": "stream",
     "text": [
      "... done loading data\n"
     ]
    }
   ],
   "source": [
    "# load\n",
    "Dtrain, Dval, Dtest = mnist()\n",
    "X_train, y_train = Dtrain\n",
    "X_valid, y_valid = Dval\n",
    "# Downsample training data to make it a bit faster for testing this code\n",
    "n_train_samples = 10000\n",
    "train_idxs = np.random.permutation(X_train.shape[0])[:n_train_samples]\n",
    "X_train = X_train[train_idxs]\n",
    "y_train = y_train[train_idxs]"
   ]
  },
  {
   "cell_type": "markdown",
   "metadata": {},
   "source": [
    "Dtrain contains 50k images Dtrain which are of size 28 x 28 pixels. Hence:"
   ]
  },
  {
   "cell_type": "code",
   "execution_count": 18,
   "metadata": {},
   "outputs": [
    {
     "name": "stdout",
     "output_type": "stream",
     "text": [
      "X_train shape: (10000, 1, 28, 28)\ny_train shape: (10000,)\n"
     ]
    }
   ],
   "source": [
    "print(\"X_train shape: {}\".format(np.shape(X_train)))\n",
    "print(\"y_train shape: {}\".format(np.shape(y_train)))\n"
   ]
  },
  {
   "cell_type": "markdown",
   "metadata": {},
   "source": [
    "y_train will automatically be converted in the train() function to one_hot encoding.\n",
    "\n",
    "\n",
    "But we need to reshape X_train, as our Network expects flat vectors of size 28*28 as input!"
   ]
  },
  {
   "cell_type": "code",
   "execution_count": 19,
   "metadata": {},
   "outputs": [
    {
     "name": "stdout",
     "output_type": "stream",
     "text": [
      "Reshaped X_train size: (10000, 784)\nReshaped X_valid size: (10000, 784)\n"
     ]
    }
   ],
   "source": [
    "X_train = X_train.reshape(X_train.shape[0], -1)\n",
    "print(\"Reshaped X_train size: {}\".format(X_train.shape))\n",
    "X_valid = X_valid.reshape((X_valid.shape[0], -1))\n",
    "print(\"Reshaped X_valid size: {}\".format(X_valid.shape))"
   ]
  },
  {
   "cell_type": "markdown",
   "metadata": {},
   "source": [
    "Ah, much better ;-)! \n",
    "\n",
    "Now we can finally really start training a Network!\n",
    "\n",
    "\n",
    "I pre-defined a small Network for you below. Again This is not really a good default and will not produce state of the art results. Please play around with this a bit. See how different activation functions and training procedures (gd / sgd) affect the result."
   ]
  },
  {
   "cell_type": "code",
   "execution_count": 42,
   "metadata": {},
   "outputs": [
    {
     "name": "stdout",
     "output_type": "stream",
     "text": [
      "----\nInput Layer\n    InputShape (None, 784)\n----\nFullyConnectedLayer\n    NumUnits 300\n    Activation 300\n    InputShape (None, 784)\n----\nFullyConnectedLayer\n    NumUnits 100\n    Activation 100\n    InputShape (None, 300)\n----\nFullyConnectedLayer\n    NumUnits 10\n    Activation 10\n    InputShape (None, 100)\n----\nSoftmax Output\n    Input Size (None, 10)\n... starting training\n"
     ]
    },
    {
     "name": "stdout",
     "output_type": "stream",
     "text": [
      "epoch    0, loss 2.2909, train error 0.8269\n                         val error   0.8270\n"
     ]
    },
    {
     "name": "stdout",
     "output_type": "stream",
     "text": [
      "epoch    1, loss 0.9999, train error 0.3099\n                         val error   0.2840\n"
     ]
    },
    {
     "name": "stdout",
     "output_type": "stream",
     "text": [
      "epoch    2, loss 0.6225, train error 0.1950\n                         val error   0.1831\n"
     ]
    },
    {
     "name": "stdout",
     "output_type": "stream",
     "text": [
      "epoch    3, loss 0.4701, train error 0.1370\n                         val error   0.1390\n"
     ]
    },
    {
     "name": "stdout",
     "output_type": "stream",
     "text": [
      "epoch    4, loss 0.3822, train error 0.1068\n                         val error   0.1149\n"
     ]
    },
    {
     "name": "stdout",
     "output_type": "stream",
     "text": [
      "epoch    5, loss 0.3218, train error 0.0893\n                         val error   0.0978\n"
     ]
    },
    {
     "name": "stdout",
     "output_type": "stream",
     "text": [
      "epoch    6, loss 0.2760, train error 0.0768\n                         val error   0.0856\n"
     ]
    },
    {
     "name": "stdout",
     "output_type": "stream",
     "text": [
      "epoch    7, loss 0.2381, train error 0.0676\n                         val error   0.0767\n"
     ]
    },
    {
     "name": "stdout",
     "output_type": "stream",
     "text": [
      "epoch    8, loss 0.2061, train error 0.0597\n                         val error   0.0696\n"
     ]
    },
    {
     "name": "stdout",
     "output_type": "stream",
     "text": [
      "epoch    9, loss 0.1788, train error 0.0515\n                         val error   0.0643\n"
     ]
    },
    {
     "name": "stdout",
     "output_type": "stream",
     "text": [
      "epoch   10, loss 0.1562, train error 0.0454\n                         val error   0.0609\n"
     ]
    },
    {
     "name": "stdout",
     "output_type": "stream",
     "text": [
      "epoch   11, loss 0.1368, train error 0.0396\n                         val error   0.0578\n"
     ]
    },
    {
     "name": "stdout",
     "output_type": "stream",
     "text": [
      "epoch   12, loss 0.1203, train error 0.0346\n                         val error   0.0547\n"
     ]
    },
    {
     "name": "stdout",
     "output_type": "stream",
     "text": [
      "epoch   13, loss 0.1066, train error 0.0295\n                         val error   0.0537\n"
     ]
    },
    {
     "name": "stdout",
     "output_type": "stream",
     "text": [
      "epoch   14, loss 0.0950, train error 0.0268\n                         val error   0.0519\n"
     ]
    },
    {
     "name": "stdout",
     "output_type": "stream",
     "text": [
      "epoch   15, loss 0.0847, train error 0.0239\n                         val error   0.0508\n"
     ]
    },
    {
     "name": "stdout",
     "output_type": "stream",
     "text": [
      "epoch   16, loss 0.0750, train error 0.0209\n                         val error   0.0499\n"
     ]
    },
    {
     "name": "stdout",
     "output_type": "stream",
     "text": [
      "epoch   17, loss 0.0660, train error 0.0181\n                         val error   0.0493\n"
     ]
    },
    {
     "name": "stdout",
     "output_type": "stream",
     "text": [
      "epoch   18, loss 0.0578, train error 0.0149\n                         val error   0.0490\n"
     ]
    },
    {
     "name": "stdout",
     "output_type": "stream",
     "text": [
      "epoch   19, loss 0.0497, train error 0.0124\n                         val error   0.0488\n"
     ]
    },
    {
     "name": "stdout",
     "output_type": "stream",
     "text": [
      "epoch   20, loss 0.0432, train error 0.0114\n                         val error   0.0477\n"
     ]
    },
    {
     "name": "stdout",
     "output_type": "stream",
     "text": [
      "epoch   21, loss 0.0379, train error 0.0095\n                         val error   0.0461\n"
     ]
    },
    {
     "name": "stdout",
     "output_type": "stream",
     "text": [
      "epoch   22, loss 0.0331, train error 0.0078\n                         val error   0.0457\n"
     ]
    },
    {
     "name": "stdout",
     "output_type": "stream",
     "text": [
      "epoch   23, loss 0.0294, train error 0.0069\n                         val error   0.0461\n"
     ]
    },
    {
     "name": "stdout",
     "output_type": "stream",
     "text": [
      "epoch   24, loss 0.0258, train error 0.0056\n                         val error   0.0454\n"
     ]
    },
    {
     "name": "stdout",
     "output_type": "stream",
     "text": [
      "epoch   25, loss 0.0229, train error 0.0047\n                         val error   0.0452\n"
     ]
    },
    {
     "name": "stdout",
     "output_type": "stream",
     "text": [
      "epoch   26, loss 0.0203, train error 0.0043\n                         val error   0.0446\n"
     ]
    },
    {
     "name": "stdout",
     "output_type": "stream",
     "text": [
      "epoch   27, loss 0.0181, train error 0.0039\n                         val error   0.0440\n"
     ]
    },
    {
     "name": "stdout",
     "output_type": "stream",
     "text": [
      "epoch   28, loss 0.0162, train error 0.0031\n                         val error   0.0436\n"
     ]
    },
    {
     "name": "stdout",
     "output_type": "stream",
     "text": [
      "epoch   29, loss 0.0145, train error 0.0026\n                         val error   0.0431\n"
     ]
    },
    {
     "name": "stdout",
     "output_type": "stream",
     "text": [
      "epoch   30, loss 0.0131, train error 0.0024\n                         val error   0.0428\n"
     ]
    },
    {
     "name": "stdout",
     "output_type": "stream",
     "text": [
      "epoch   31, loss 0.0119, train error 0.0019\n                         val error   0.0424\n"
     ]
    },
    {
     "name": "stdout",
     "output_type": "stream",
     "text": [
      "epoch   32, loss 0.0109, train error 0.0015\n                         val error   0.0420\n"
     ]
    },
    {
     "name": "stdout",
     "output_type": "stream",
     "text": [
      "epoch   33, loss 0.0099, train error 0.0013\n                         val error   0.0422\n"
     ]
    },
    {
     "name": "stdout",
     "output_type": "stream",
     "text": [
      "epoch   34, loss 0.0092, train error 0.0012\n                         val error   0.0422\n"
     ]
    },
    {
     "name": "stdout",
     "output_type": "stream",
     "text": [
      "epoch   35, loss 0.0085, train error 0.0012\n                         val error   0.0421\n"
     ]
    },
    {
     "name": "stdout",
     "output_type": "stream",
     "text": [
      "epoch   36, loss 0.0079, train error 0.0011\n                         val error   0.0420\n"
     ]
    },
    {
     "name": "stdout",
     "output_type": "stream",
     "text": [
      "epoch   37, loss 0.0073, train error 0.0011\n                         val error   0.0418\n"
     ]
    },
    {
     "name": "stdout",
     "output_type": "stream",
     "text": [
      "epoch   38, loss 0.0068, train error 0.0010\n                         val error   0.0419\n"
     ]
    },
    {
     "name": "stdout",
     "output_type": "stream",
     "text": [
      "epoch   39, loss 0.0064, train error 0.0009\n                         val error   0.0419\n"
     ]
    },
    {
     "name": "stdout",
     "output_type": "stream",
     "text": [
      "epoch   40, loss 0.0060, train error 0.0008\n                         val error   0.0416\n"
     ]
    },
    {
     "name": "stdout",
     "output_type": "stream",
     "text": [
      "epoch   41, loss 0.0057, train error 0.0007\n                         val error   0.0417\n"
     ]
    },
    {
     "name": "stdout",
     "output_type": "stream",
     "text": [
      "epoch   42, loss 0.0054, train error 0.0006\n                         val error   0.0416\n"
     ]
    },
    {
     "name": "stdout",
     "output_type": "stream",
     "text": [
      "epoch   43, loss 0.0051, train error 0.0005\n                         val error   0.0415\n"
     ]
    },
    {
     "name": "stdout",
     "output_type": "stream",
     "text": [
      "epoch   44, loss 0.0048, train error 0.0005\n                         val error   0.0414\n"
     ]
    },
    {
     "name": "stdout",
     "output_type": "stream",
     "text": [
      "epoch   45, loss 0.0046, train error 0.0004\n                         val error   0.0414\n"
     ]
    },
    {
     "name": "stdout",
     "output_type": "stream",
     "text": [
      "epoch   46, loss 0.0044, train error 0.0004\n                         val error   0.0413\n"
     ]
    },
    {
     "name": "stdout",
     "output_type": "stream",
     "text": [
      "epoch   47, loss 0.0042, train error 0.0004\n                         val error   0.0411\n"
     ]
    },
    {
     "name": "stdout",
     "output_type": "stream",
     "text": [
      "epoch   48, loss 0.0040, train error 0.0004\n                         val error   0.0410\n"
     ]
    },
    {
     "name": "stdout",
     "output_type": "stream",
     "text": [
      "epoch   49, loss 0.0039, train error 0.0004\n                         val error   0.0409\n"
     ]
    },
    {
     "name": "stdout",
     "output_type": "stream",
     "text": [
      "epoch   50, loss 0.0037, train error 0.0004\n                         val error   0.0407\n"
     ]
    },
    {
     "name": "stdout",
     "output_type": "stream",
     "text": [
      "epoch   51, loss 0.0036, train error 0.0004\n                         val error   0.0407\n"
     ]
    },
    {
     "name": "stdout",
     "output_type": "stream",
     "text": [
      "epoch   52, loss 0.0034, train error 0.0004\n                         val error   0.0405\n"
     ]
    },
    {
     "name": "stdout",
     "output_type": "stream",
     "text": [
      "epoch   53, loss 0.0033, train error 0.0004\n                         val error   0.0406\n"
     ]
    },
    {
     "name": "stdout",
     "output_type": "stream",
     "text": [
      "epoch   54, loss 0.0032, train error 0.0004\n                         val error   0.0405\n"
     ]
    },
    {
     "name": "stdout",
     "output_type": "stream",
     "text": [
      "epoch   55, loss 0.0031, train error 0.0004\n                         val error   0.0406\nDuration: 69.6s\n"
     ]
    },
    {
     "data": {
      "image/png": "[encoded data removed]",
      "text/plain": [
       "<matplotlib.figure.Figure at 0x7fdb9e4df438>"
      ]
     },
     "metadata": {},
     "output_type": "display_data"
    }
   ],
   "source": [
    "import time\n",
    "\n",
    "# Setup a small MLP / Neural Network\n",
    "# we can set the first shape to None here to indicate that\n",
    "# we will input a variable number inputs to the network\n",
    "input_shape = (None, 28 * 28)\n",
    "layers = [InputLayer(input_shape)]\n",
    "\n",
    "layers.append(FullyConnectedLayer(\n",
    "    layers[-1],\n",
    "    num_units=300,\n",
    "    init_stddev=0.01,\n",
    "    activation_fun=Activation('relu')\n",
    "))\n",
    "\n",
    "\n",
    "layers.append(FullyConnectedLayer(\n",
    "    layers[-1],\n",
    "    num_units=100,\n",
    "    init_stddev=0.01,\n",
    "    activation_fun=Activation('relu')\n",
    "))\n",
    "\n",
    "\n",
    "layers.append(FullyConnectedLayer(\n",
    "    layers[-1],\n",
    "    num_units=10,\n",
    "    init_stddev=0.01,\n",
    "    # last layer has no nonlinearity \n",
    "    # (softmax will be applied in the output layer)\n",
    "    activation_fun=None\n",
    "))\n",
    "layers.append(SoftmaxOutput(layers[-1]))\n",
    "\n",
    "nn = NeuralNetwork(layers)\n",
    "# Train neural network\n",
    "t0 = time.time()\n",
    "num_epochs = 50\n",
    "train_errors, val_errors = nn.train(X_train, y_train, \n",
    "                    X_valid, y_valid, learning_rate=0.1, \n",
    "         max_epochs=num_epochs, batch_size=64,\n",
    "            y_one_hot=True, descent_type=\"sgd\")\n",
    "t1 = time.time()\n",
    "print('Duration: {:.1f}s'.format(t1 - t0))\n",
    "\n",
    "plt.axis([0, num_epochs, 0, 100])\n",
    "plt.xlabel(\"# Epochs\")\n",
    "plt.ylabel(\"Errors\")\n",
    "plt.plot(train_errors * 100, label='Train error')\n",
    "plt.plot(val_errors * 100, label='Val error')\n",
    "plt.legend()\n",
    "plt.savefig(\"Train.png\")\n",
    "plt.show()\n"
   ]
  },
  {
   "cell_type": "markdown",
   "metadata": {},
   "source": [
    "# Figure out a reasonable Network that achieves good performance\n",
    "As the last part of this task, setup a network that works well and gets reasonable accuracy, say ~ 1-3 percent error on the **validation set**. \n",
    "Train this network on the complete data and compute the **test error**. \n",
    "\n",
    "Once you have done this, visualize a few digits from the the test set that the network gets right as well as a few that the network gets wrong!\n"
   ]
  },
  {
   "cell_type": "code",
   "execution_count": 45,
   "metadata": {
    "collapsed": false
   },
   "outputs": [
    {
     "name": "stdout",
     "output_type": "stream",
     "text": [
      "----\nInput Layer\n    InputShape (None, 784)\n----\nFullyConnectedLayer\n    NumUnits 300\n    Activation 300\n    InputShape (None, 784)\n----\nFullyConnectedLayer\n    NumUnits 100\n    Activation 100\n    InputShape (None, 300)\n----\nFullyConnectedLayer\n    NumUnits 10\n    Activation 10\n    InputShape (None, 100)\n----\nSoftmax Output\n    Input Size (None, 10)\n... loading data\n"
     ]
    },
    {
     "name": "stdout",
     "output_type": "stream",
     "text": [
      "... done loading data\nReshaped X_train size: (60000, 784)\nReshaped X_test size: (10000, 784)\n... starting training\n"
     ]
    },
    {
     "name": "stdout",
     "output_type": "stream",
     "text": [
      "epoch    0, loss 0.3715, train error 0.1146\n"
     ]
    },
    {
     "name": "stdout",
     "output_type": "stream",
     "text": [
      "epoch    1, loss 0.2049, train error 0.0619\n"
     ]
    },
    {
     "name": "stdout",
     "output_type": "stream",
     "text": [
      "epoch    2, loss 0.1382, train error 0.0416\n"
     ]
    },
    {
     "name": "stdout",
     "output_type": "stream",
     "text": [
      "epoch    3, loss 0.1017, train error 0.0309\n"
     ]
    },
    {
     "name": "stdout",
     "output_type": "stream",
     "text": [
      "epoch    4, loss 0.0792, train error 0.0241\n"
     ]
    },
    {
     "name": "stdout",
     "output_type": "stream",
     "text": [
      "epoch    5, loss 0.0629, train error 0.0187\n"
     ]
    },
    {
     "name": "stdout",
     "output_type": "stream",
     "text": [
      "epoch    6, loss 0.0521, train error 0.0151\n"
     ]
    },
    {
     "name": "stdout",
     "output_type": "stream",
     "text": [
      "epoch    7, loss 0.0459, train error 0.0140\n"
     ]
    },
    {
     "name": "stdout",
     "output_type": "stream",
     "text": [
      "epoch    8, loss 0.0385, train error 0.0117\n"
     ]
    },
    {
     "name": "stdout",
     "output_type": "stream",
     "text": [
      "epoch    9, loss 0.0335, train error 0.0103\n"
     ]
    },
    {
     "name": "stdout",
     "output_type": "stream",
     "text": [
      "epoch   10, loss 0.0288, train error 0.0087\n"
     ]
    },
    {
     "name": "stdout",
     "output_type": "stream",
     "text": [
      "epoch   11, loss 0.0244, train error 0.0073\n"
     ]
    },
    {
     "name": "stdout",
     "output_type": "stream",
     "text": [
      "epoch   12, loss 0.0205, train error 0.0059\n"
     ]
    },
    {
     "name": "stdout",
     "output_type": "stream",
     "text": [
      "epoch   13, loss 0.0171, train error 0.0049\n"
     ]
    },
    {
     "name": "stdout",
     "output_type": "stream",
     "text": [
      "epoch   14, loss 0.0147, train error 0.0041\n"
     ]
    },
    {
     "name": "stdout",
     "output_type": "stream",
     "text": [
      "epoch   15, loss 0.0130, train error 0.0037\n"
     ]
    },
    {
     "name": "stdout",
     "output_type": "stream",
     "text": [
      "epoch   16, loss 0.0119, train error 0.0034\n"
     ]
    },
    {
     "name": "stdout",
     "output_type": "stream",
     "text": [
      "epoch   17, loss 0.0099, train error 0.0027\n"
     ]
    },
    {
     "name": "stdout",
     "output_type": "stream",
     "text": [
      "epoch   18, loss 0.0084, train error 0.0022\n"
     ]
    },
    {
     "name": "stdout",
     "output_type": "stream",
     "text": [
      "epoch   19, loss 0.0070, train error 0.0016\n"
     ]
    },
    {
     "name": "stdout",
     "output_type": "stream",
     "text": [
      "epoch   20, loss 0.0056, train error 0.0012\n"
     ]
    },
    {
     "name": "stdout",
     "output_type": "stream",
     "text": [
      "epoch   21, loss 0.0047, train error 0.0009\n"
     ]
    },
    {
     "name": "stdout",
     "output_type": "stream",
     "text": [
      "epoch   22, loss 0.0042, train error 0.0008\n"
     ]
    },
    {
     "name": "stdout",
     "output_type": "stream",
     "text": [
      "epoch   23, loss 0.0036, train error 0.0005\n"
     ]
    },
    {
     "name": "stdout",
     "output_type": "stream",
     "text": [
      "epoch   24, loss 0.0032, train error 0.0005\n"
     ]
    },
    {
     "name": "stdout",
     "output_type": "stream",
     "text": [
      "epoch   25, loss 0.0028, train error 0.0004\n"
     ]
    },
    {
     "name": "stdout",
     "output_type": "stream",
     "text": [
      "epoch   26, loss 0.0026, train error 0.0003\n"
     ]
    },
    {
     "name": "stdout",
     "output_type": "stream",
     "text": [
      "epoch   27, loss 0.0023, train error 0.0002\n"
     ]
    },
    {
     "name": "stdout",
     "output_type": "stream",
     "text": [
      "epoch   28, loss 0.0021, train error 0.0002\n"
     ]
    },
    {
     "name": "stdout",
     "output_type": "stream",
     "text": [
      "epoch   29, loss 0.0020, train error 0.0002\n"
     ]
    },
    {
     "name": "stdout",
     "output_type": "stream",
     "text": [
      "epoch   30, loss 0.0018, train error 0.0001\n"
     ]
    },
    {
     "name": "stdout",
     "output_type": "stream",
     "text": [
      "epoch   31, loss 0.0017, train error 0.0001\n"
     ]
    },
    {
     "name": "stdout",
     "output_type": "stream",
     "text": [
      "epoch   32, loss 0.0016, train error 0.0001\n"
     ]
    },
    {
     "name": "stdout",
     "output_type": "stream",
     "text": [
      "epoch   33, loss 0.0014, train error 0.0001\n"
     ]
    },
    {
     "name": "stdout",
     "output_type": "stream",
     "text": [
      "epoch   34, loss 0.0013, train error 0.0001\n"
     ]
    },
    {
     "name": "stdout",
     "output_type": "stream",
     "text": [
      "epoch   35, loss 0.0012, train error 0.0001\n"
     ]
    },
    {
     "name": "stdout",
     "output_type": "stream",
     "text": [
      "epoch   36, loss 0.0012, train error 0.0001\n"
     ]
    },
    {
     "name": "stdout",
     "output_type": "stream",
     "text": [
      "epoch   37, loss 0.0011, train error 0.0000\n"
     ]
    },
    {
     "name": "stdout",
     "output_type": "stream",
     "text": [
      "epoch   38, loss 0.0010, train error 0.0000\n"
     ]
    },
    {
     "name": "stdout",
     "output_type": "stream",
     "text": [
      "epoch   39, loss 0.0009, train error 0.0000\n"
     ]
    },
    {
     "name": "stdout",
     "output_type": "stream",
     "text": [
      "epoch   40, loss 0.0009, train error 0.0000\n"
     ]
    },
    {
     "name": "stdout",
     "output_type": "stream",
     "text": [
      "epoch   41, loss 0.0008, train error 0.0000\n"
     ]
    },
    {
     "name": "stdout",
     "output_type": "stream",
     "text": [
      "epoch   42, loss 0.0008, train error 0.0000\n"
     ]
    },
    {
     "name": "stdout",
     "output_type": "stream",
     "text": [
      "epoch   43, loss 0.0007, train error 0.0000\n"
     ]
    },
    {
     "name": "stdout",
     "output_type": "stream",
     "text": [
      "epoch   44, loss 0.0007, train error 0.0000\n"
     ]
    },
    {
     "name": "stdout",
     "output_type": "stream",
     "text": [
      "epoch   45, loss 0.0007, train error 0.0000\n"
     ]
    },
    {
     "name": "stdout",
     "output_type": "stream",
     "text": [
      "epoch   46, loss 0.0006, train error 0.0000\n"
     ]
    },
    {
     "name": "stdout",
     "output_type": "stream",
     "text": [
      "epoch   47, loss 0.0006, train error 0.0000\n"
     ]
    },
    {
     "name": "stdout",
     "output_type": "stream",
     "text": [
      "epoch   48, loss 0.0006, train error 0.0000\n"
     ]
    },
    {
     "name": "stdout",
     "output_type": "stream",
     "text": [
      "epoch   49, loss 0.0006, train error 0.0000\n"
     ]
    },
    {
     "name": "stdout",
     "output_type": "stream",
     "text": [
      "epoch   50, loss 0.0005, train error 0.0000\nDuration: 332.0s\n"
     ]
    },
    {
     "name": "stdout",
     "output_type": "stream",
     "text": [
      "Test error  1.86 %\nTest loss 0.0901120496531\n"
     ]
    },
    {
     "data": {
      "image/png": "[encoded data removed]",
      "text/plain": [
       "<matplotlib.figure.Figure at 0x7fdb9e496320>"
      ]
     },
     "metadata": {},
     "output_type": "display_data"
    }
   ],
   "source": [
    "# Reload data\n",
    "import random\n",
    "import time\n",
    "\n",
    "# Setup a small MLP / Neural Network\n",
    "# we can set the first shape to None here to indicate that\n",
    "# we will input a variable number inputs to the network\n",
    "input_shape = (None, 28 * 28)\n",
    "layers = [InputLayer(input_shape)]\n",
    "\n",
    "layers.append(FullyConnectedLayer(\n",
    "    layers[-1],\n",
    "    num_units=300,\n",
    "    init_stddev=0.01,\n",
    "    activation_fun=Activation('relu')\n",
    "))\n",
    "\n",
    "\n",
    "layers.append(FullyConnectedLayer(\n",
    "    layers[-1],\n",
    "    num_units=100,\n",
    "    init_stddev=0.01,\n",
    "    activation_fun=Activation('relu')\n",
    "))\n",
    "\n",
    "\n",
    "layers.append(FullyConnectedLayer(\n",
    "    layers[-1],\n",
    "    num_units=10,\n",
    "    init_stddev=0.01,\n",
    "    # last layer has no nonlinearity \n",
    "    # (softmax will be applied in the output layer)\n",
    "    activation_fun=None\n",
    "))\n",
    "layers.append(SoftmaxOutput(layers[-1]))\n",
    "\n",
    "Dtrain, Dval, Dtest = mnist()\n",
    "X_train, y_train = Dtrain\n",
    "X_valid, y_valid = Dval\n",
    "X_test, y_test = Dtest\n",
    "\n",
    "X_train = np.concatenate((X_train, X_valid), axis=0)\n",
    "y_train = np.concatenate((y_train, y_valid), axis=0)\n",
    "\n",
    "X_train_orig = X_train\n",
    "\n",
    "X_train = X_train.reshape(X_train.shape[0], -1)\n",
    "print(\"Reshaped X_train size: {}\".format(X_train.shape))\n",
    "X_test = X_test.reshape((X_test.shape[0], -1))\n",
    "print(\"Reshaped X_test size: {}\".format(X_test.shape))\n",
    "\n",
    "nn_final = NeuralNetwork(layers)\n",
    "num_epochs = 50\n",
    "# # Train neural network\n",
    "t0 = time.time()\n",
    "train_errors, val_errors = nn_final.train(X_train, y_train, learning_rate=0.1, \n",
    "         max_epochs=num_epochs, batch_size=64, y_one_hot=True)\n",
    "t1 = time.time()\n",
    "print('Duration: {:.1f}s'.format(t1 - t0))\n",
    "\n",
    "plt.axis([0, num_epochs, 0, 20])\n",
    "plt.xlabel(\"# Epochs\")\n",
    "plt.ylabel(\"Errors\")\n",
    "plt.plot(train_errors * 100, label='Train error')\n",
    "plt.legend()\n",
    "plt.savefig(\"Train-final.png\")\n",
    "# plt.show()\n",
    "\n",
    "loss_test, error_test, classified = nn_final.test(X_test, y_test)\n",
    "\n",
    "print(\"Test error \", error_test * 100, \"%\",)\n",
    "print(\"Test loss\", loss_test)\n",
    "\n",
    "correct, incorrect = [], []\n",
    "for i in range(len(classified)):\n",
    "    if classified[i]:\n",
    "        incorrect.append(i)\n",
    "    else:\n",
    "        correct.append(i)\n",
    "\n",
    "wrong_digits = random.sample(incorrect, 3)\n",
    "correct_digits = random.sample(correct, 3)\n",
    "   \n",
    "\n",
    "plt.figure(1)\n",
    "plt.subplot(231)\n",
    "plt.ylabel(\"Incorrect digits\")\n",
    "plt.imshow(X_test[wrong_digits[0]].reshape([28, 28]))\n",
    "\n",
    "plt.subplot(232)\n",
    "plt.imshow(X_test[wrong_digits[1]].reshape([28, 28]))\n",
    "\n",
    "plt.subplot(233)\n",
    "plt.imshow(X_test[wrong_digits[2]].reshape([28, 28]))\n",
    "\n",
    "plt.subplot(234)\n",
    "plt.ylabel(\"Correct digits\")\n",
    "plt.imshow(X_test[correct_digits[0]].reshape([28, 28]))\n",
    "\n",
    "plt.subplot(235)\n",
    "plt.imshow(X_test[correct_digits[1]].reshape([28, 28]))\n",
    "\n",
    "plt.subplot(236)\n",
    "plt.imshow(X_test[correct_digits[2]].reshape([28, 28]))\n",
    "plt.gray()\n",
    "plt.savefig(\"Digits.png\")\n",
    "plt.show()\n"
   ]
  },
  {
   "cell_type": "code",
   "execution_count": null,
   "metadata": {},
   "outputs": [],
   "source": [
    "\n"
   ]
  }
 ],
 "metadata": {
  "kernelspec": {
   "display_name": "Python 3",
   "language": "python",
   "name": "python3"
  },
  "language_info": {
   "codemirror_mode": {
    "name": "ipython",
    "version": 3
   },
   "file_extension": ".py",
   "mimetype": "text/x-python",
   "name": "python",
   "nbconvert_exporter": "python",
   "pygments_lexer": "ipython3",
   "version": "3.6.2"
  }
 },
 "nbformat": 4,
 "nbformat_minor": 1
}
